{
  "cells": [
    {
      "cell_type": "code",
      "source": [
        "import numpy as np\n",
        "from scipy.special import erf\n",
        "import matplotlib.pyplot as plt"
      ],
      "outputs": [],
      "execution_count": 3,
      "metadata": {}
    },
    {
      "cell_type": "code",
      "source": [
        "# Python as a calculator\n",
        "\n",
        "a, b, c = 2, 50 , 100  # define variables\n",
        "\n",
        "d = a*b**2+c*np.sqrt(a)-np.pi  # operate\n",
        "\n",
        "d #get result SHIFT+ENTER or click Run"
      ],
      "outputs": [
        {
          "output_type": "execute_result",
          "execution_count": 5,
          "data": {
            "text/plain": [
              "5138.27976358372"
            ]
          },
          "metadata": {}
        }
      ],
      "execution_count": 5,
      "metadata": {}
    },
    {
      "cell_type": "code",
      "source": [
        "#Defining your own function\n",
        "\n",
        "def eq1(x, y, co, v, Dm):\n",
        "    return co/2*(1-erf(y/(np.sqrt(4*Dm*(x/v)))))"
      ],
      "outputs": [],
      "execution_count": 5,
      "metadata": {
        "code_folding": []
      }
    },
    {
      "cell_type": "code",
      "source": [
        "# using your own function\n",
        "x = np.linspace(0.1,100,10000)\n",
        "y = 2\n",
        "v = 1\n",
        "Dm = 1\n",
        "label = [\"Co = 1\", \"Co = 2\", \"Co = 3\", \"Co = 4\", \"Co = 5\"]\n",
        "\n",
        "for co in [1, 2, 3, 4, 5]:\n",
        "    cm = eq1(x,y,co, v, Dm)\n",
        "    plt.plot(x, cm)\n",
        "    plt.legend(label)\n",
        "    plt.ylabel(r'$C_m$ (mg/L)'), plt.xlabel(r'$x$ (m)') \n",
        "    plt.grid(), plt.savefig(\"fig_L1.pdf\")\n",
        "    \n",
        "print(cm[5])\n",
        "    "
      ],
      "outputs": [
        {
          "output_type": "stream",
          "name": "stdout",
          "text": [
            "0.0006504346064969968\n"
          ]
        },
        {
          "output_type": "display_data",
          "data": {
            "image/png": "[encoded data removed]",
            "text/plain": [
              "<Figure size 432x288 with 1 Axes>"
            ]
          },
          "metadata": {
            "needs_background": "light"
          }
        }
      ],
      "execution_count": 9,
      "metadata": {
        "code_folding": []
      }
    },
    {
      "cell_type": "code",
      "source": [],
      "outputs": [],
      "execution_count": null,
      "metadata": {}
    }
  ],
  "metadata": {
    "hide_input": false,
    "kernelspec": {
      "name": "python3",
      "language": "python",
      "display_name": "Python 3"
    },
    "language_info": {
      "name": "python",
      "version": "3.6.8",
      "mimetype": "text/x-python",
      "codemirror_mode": {
        "name": "ipython",
        "version": 3
      },
      "pygments_lexer": "ipython3",
      "nbconvert_exporter": "python",
      "file_extension": ".py"
    },
    "latex_envs": {
      "report_style_numbering": false,
      "hotkeys": {
        "equation": "Ctrl-E",
        "itemize": "Ctrl-I"
      },
      "LaTeX_envs_menu_present": true,
      "autocomplete": true,
      "autoclose": false,
      "eqNumInitial": 1,
      "bibliofile": "biblio.bib",
      "latex_user_defs": false,
      "current_citInitial": 1,
      "eqLabelWithNumbers": true,
      "labels_anchors": false,
      "cite_by": "apalike",
      "user_envs_cfg": false
    },
    "varInspector": {
      "cols": {
        "lenName": 16,
        "lenType": 16,
        "lenVar": 40
      },
      "kernels_config": {
        "python": {
          "delete_cmd_postfix": "",
          "delete_cmd_prefix": "del ",
          "library": "var_list.py",
          "varRefreshCmd": "print(var_dic_list())"
        },
        "r": {
          "delete_cmd_postfix": ") ",
          "delete_cmd_prefix": "rm(",
          "library": "var_list.r",
          "varRefreshCmd": "cat(var_dic_list()) "
        }
      },
      "types_to_exclude": [
        "module",
        "function",
        "builtin_function_or_method",
        "instance",
        "_Feature"
      ],
      "window_display": false
    },
    "kernel_info": {
      "name": "python3"
    },
    "nteract": {
      "version": "0.15.0"
    }
  },
  "nbformat": 4,
  "nbformat_minor": 2
}