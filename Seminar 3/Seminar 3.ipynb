{
 "cells": [
  {
   "cell_type": "code",
   "execution_count": 1,
   "metadata": {
    "slideshow": {
     "slide_type": "skip"
    }
   },
   "outputs": [],
   "source": [
    "import numpy as np"
   ]
  },
  {
   "cell_type": "markdown",
   "metadata": {
    "slideshow": {
     "slide_type": "slide"
    }
   },
   "source": [
    "# Seminar 3 #\n",
    "\n",
    "## Pressure measurements\n",
    "\n",
    " 1. **Manometer**\n",
    "\n"
   ]
  },
  {
   "cell_type": "markdown",
   "metadata": {
    "slideshow": {
     "slide_type": "slide"
    }
   },
   "source": [
    "\n",
    "### Problem 1 - Simple Manometer ###\n",
    "\n",
    "The lower part of the U-tube manometer in Figure contains mercury ($\\rho_m$ = 13600 kg/m<sup>3</sup>). The pipe contains water ($\\rho = 1000$ kg/m<sup>3</sup>). Determine the gauge pressure, $P$, at the centre of the pipe if the manometer readings are as shown in the diagram.\n",
    "\n",
    "<img src=\"figs/S3-fig1.png\" alt=\"S3-Question 1\" width = \"300\">\n"
   ]
  },
  {
   "cell_type": "markdown",
   "metadata": {
    "slideshow": {
     "slide_type": "subslide"
    }
   },
   "source": [
    "\n",
    "### Solution of Problem 1\n",
    "\n",
    "The relevant equations can be found in slides L3 - slide 10 \n",
    "\n",
    "$$ \n",
    "P = \\rho_m gh_m + P_{atm} - \\rho g z \n",
    "$$\n"
   ]
  },
  {
   "cell_type": "code",
   "execution_count": 3,
   "metadata": {
    "slideshow": {
     "slide_type": "subslide"
    }
   },
   "outputs": [
    {
     "name": "stdout",
     "output_type": "stream",
     "text": [
      "The pressure of the tank is 1.495E+05 N/m²\n"
     ]
    }
   ],
   "source": [
    "#Given,\n",
    "dy_w = 1000 # kg/m^3, density of water\n",
    "dy_m = 13600 # Kg/m^3, density of of mercury\n",
    "g1 = 9.81 # m/s^2, earth's gravity\n",
    "P1_atm = 101000 # N/m^2, Standard atmospheric pressure\n",
    "h1_m = 0.4 # m, height of Hg above x-x axis right\n",
    "z1 = 0.5 # m, height of water above x-x axis left\n",
    "\n",
    "#Calculations\n",
    "P1 = dy_m * g1*h1_m + P1_atm - dy_w*g1*z1\n",
    "P1 \n",
    "# output\n",
    "print(\"The pressure of the tank is {0:1.3E}\".format(P1),\"N/m\\u00b2\")"
   ]
  },
  {
   "cell_type": "markdown",
   "metadata": {
    "slideshow": {
     "slide_type": "slide"
    }
   },
   "source": [
    "\n",
    "### Problem 2 - Differential U-tube \n",
    "\n",
    "A differential U-tube manometer is used to measure the change in pressure between two points in a pipeline which carries oil. The lower part of the U-tube contains mercury. There is an increase in elevation between the two points of\n",
    "0.26m. If $z_1 = 0.60$ m, $z_2 = 0.73$ m and $h_m = 0.13$ m, calculate the difference in pressure when\n",
    "\n",
    "Density of oil, $\\rho_o = 800$ kg/m<sup>3</sup>\n",
    "\n",
    "Density of mercury, $\\rho_m = 13600$ kg/m<sup>3</sup>\n",
    "\n",
    "<img src=\"figs/S3-fig2.png\" alt=\"Rectangular Tank\" width=\"300\">\n",
    "\n"
   ]
  },
  {
   "cell_type": "markdown",
   "metadata": {
    "slideshow": {
     "slide_type": "subslide"
    }
   },
   "source": [
    "### Solution of Problem 2 ###\n",
    "\n",
    "The relevant equations are (check L3 slides 13)\n",
    "\n",
    "$$\n",
    "P_{LL} = \\rho\\cdot g\\cdot z_1\\cdot + P_1\n",
    "$$\n",
    "\n",
    "$$\n",
    "\tP_{RL} = \\rho_m\\cdot g\\cdot h_m + \\rho \\cdot g \\cdot z_2 + P_2 \n",
    "$$\n",
    "\n",
    "$$\n",
    "(P_1 - P_2) = \\rho_m g h_m + \\rho g (z_2-z_1)\n",
    "$$\n",
    "\n",
    "$$\n",
    "(P_1 - P_2) = g h_m (\\rho_m - \\rho)\n",
    "$$\n",
    "\n",
    "Information provided in the problem are:\n",
    "\n"
   ]
  },
  {
   "cell_type": "code",
   "execution_count": 5,
   "metadata": {
    "slideshow": {
     "slide_type": "subslide"
    }
   },
   "outputs": [
    {
     "name": "stdout",
     "output_type": "stream",
     "text": [
      "The pressure difference is 18364.32 N/m² \n",
      "\n"
     ]
    }
   ],
   "source": [
    "# Given are\n",
    "\n",
    "dy2_o = 800 # kg/m^3, oil density\n",
    "dy2_m = 13600 # kg/m^3, mercury density\n",
    "g2 = 9.81 # m/s^2\n",
    "h2_m = 0.13 # m, mercury height above x-x in right\n",
    "z2_1 = 0.6 # m, oil height above x-x in left\n",
    "z2_2 = 0.73 # m, water height above mercury on right\n",
    "\n",
    "# interim calculation\n",
    "P3_L =dy2_o*g2*z2_1 # P_LL wihtout P_1\n",
    "P3_R =dy2_m*g2*h2_m + dy2_o*g2*z2_2 # P_LR wihtout P_2\n",
    "\n",
    "\n",
    "# calculation\n",
    "P3_d = P3_R - P3_L # N/m^2 \n",
    "\n",
    "\n",
    "# output\n",
    "print(\"The pressure difference is {0:1.2f}\".format(P3_d),\"N/m\\u00b2\", \"\\n\")"
   ]
  },
  {
   "cell_type": "markdown",
   "metadata": {
    "slideshow": {
     "slide_type": "slide"
    }
   },
   "source": [
    "### Assignment Problem 1- Simple U-Tube Manometer\n",
    "\n",
    "The U-tube manometer shown in Fig. is used\n",
    "to measure the pressure in a pipeline as it passes\n",
    "over the crest of a hill. The pipeline carries fresh\n",
    "water (r = 1000kg/m<sup>3</sup>). The bottom of the\n",
    "U-tube contains mercury (rM = 13600kg/m<sup>3</sup>).\n",
    "Taking atmospheric pressure as the equivalent of\n",
    "10.3m of water, with the readings shown in the\n",
    "diagram calculate the absolute pressure at the\n",
    "centre of the pipeline.\n",
    "\n",
    "<img src= \"figs/S3-A1.png\" alt=\"Assignment 1\" width =\"300\">\n",
    "\n"
   ]
  },
  {
   "cell_type": "markdown",
   "metadata": {
    "slideshow": {
     "slide_type": "slide"
    }
   },
   "source": [
    "### Assignment Problem 2 - Differential U-Tube Manometer\n",
    "\n",
    "The differential U-tube manometer in Fig. is\n",
    "used to measure the difference in pressure\n",
    "between two points in an expanding pipeline.\n",
    "The pipe liquid is water and the gauge liquid is\n",
    "mercury (1.0 and 13.6 relative density, respectively).\n",
    "For the dimensions shown in the\n",
    "diagram, calculate the value of ($P_1- P_2$).\n",
    "\n",
    "<img src=\"figs/S3-A2.png\" alt=\"problem 4\" width=300>\n",
    "\n"
   ]
  }
 ],
 "metadata": {
  "celltoolbar": "Slideshow",
  "hide_input": false,
  "kernel_info": {
   "name": "python3"
  },
  "kernelspec": {
   "display_name": "Python 3",
   "language": "python",
   "name": "python3"
  },
  "language_info": {
   "codemirror_mode": {
    "name": "ipython",
    "version": 3
   },
   "file_extension": ".py",
   "mimetype": "text/x-python",
   "name": "python",
   "nbconvert_exporter": "python",
   "pygments_lexer": "ipython3",
   "version": "3.7.3"
  },
  "latex_envs": {
   "LaTeX_envs_menu_present": true,
   "autoclose": false,
   "autocomplete": true,
   "bibliofile": "biblio.bib",
   "cite_by": "apalike",
   "current_citInitial": 1,
   "eqLabelWithNumbers": false,
   "eqNumInitial": 1,
   "hotkeys": {
    "equation": "Ctrl-E",
    "itemize": "Ctrl-I"
   },
   "labels_anchors": true,
   "latex_user_defs": false,
   "report_style_numbering": false,
   "user_envs_cfg": false
  },
  "nteract": {
   "version": "0.15.0"
  },
  "rise": {
   "backimage": "figs/HTWlogo.png",
   "footer": "<h4>Seminar 01, 15.10.2020, P. Yadav</h4>",
   "header": "<h2>Hydraulic Modelling</h2>"
  },
  "varInspector": {
   "cols": {
    "lenName": 16,
    "lenType": 16,
    "lenVar": 40
   },
   "kernels_config": {
    "python": {
     "delete_cmd_postfix": "",
     "delete_cmd_prefix": "del ",
     "library": "var_list.py",
     "varRefreshCmd": "print(var_dic_list())"
    },
    "r": {
     "delete_cmd_postfix": ") ",
     "delete_cmd_prefix": "rm(",
     "library": "var_list.r",
     "varRefreshCmd": "cat(var_dic_list()) "
    }
   },
   "types_to_exclude": [
    "module",
    "function",
    "builtin_function_or_method",
    "instance",
    "_Feature"
   ],
   "window_display": false
  }
 },
 "nbformat": 4,
 "nbformat_minor": 2
}
