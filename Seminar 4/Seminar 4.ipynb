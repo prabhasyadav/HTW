{
 "cells": [
  {
   "cell_type": "code",
   "execution_count": 1,
   "metadata": {
    "slideshow": {
     "slide_type": "skip"
    }
   },
   "outputs": [],
   "source": [
    "import numpy as np"
   ]
  },
  {
   "cell_type": "markdown",
   "metadata": {
    "slideshow": {
     "slide_type": "slide"
    }
   },
   "source": [
    "# Seminar 4 #\n",
    "\n",
    "## Pressure measurements\n",
    "\n",
    " 1. **Hydrodynamics I**\n",
    "\n"
   ]
  },
  {
   "cell_type": "markdown",
   "metadata": {
    "slideshow": {
     "slide_type": "slide"
    }
   },
   "source": [
    "\n",
    "### Problem 1 - Reynold's number ###\n",
    "\n",
    "Pipe flow with discharge $Q = 0.025$ m<sup>3</sup>/s in a pipe of a diameter 0.1 m. Is the flow laminar?\t\n",
    "\n",
    "\n",
    "### Solution of Problem 1\n",
    "\n",
    "The relevant equations can be found in slides L4 - slides 10-11\n",
    "\n",
    "The main equation is:\n",
    "\n",
    "$$ \n",
    "Re = \\frac{\\rho \\cdot v \\cdot D}{\\mu}\n",
    "$$\n",
    "\n",
    "For water at 20$^\\circ$, we use $\\rho = 1000$ kg/<sup>3</sup> and $\\mu = 1.005\\cdot 10^{-3}$ kg/m-s\n"
   ]
  },
  {
   "cell_type": "code",
   "execution_count": 2,
   "metadata": {
    "slideshow": {
     "slide_type": "subslide"
    }
   },
   "outputs": [
    {
     "name": "stdout",
     "output_type": "stream",
     "text": [
      "The Reynold's number is 316726.255 \n",
      "\n",
      "It is Turbulent flow\n"
     ]
    }
   ],
   "source": [
    "#Given are:\n",
    "D1 = 0.1 # m, diameter of the pipe\n",
    "Q1 = 0.025 # m^3/s, discharge in pipe\n",
    "rho1 = 1000 # kg/m^3, density of water\n",
    "mu1 = 1.005* 10**-3\n",
    "\n",
    "# interim calculation\n",
    "A1 = (np.pi/4) * D1**2 # m^2 area of the pipe\n",
    "v1 = Q1/A1 # m/s, velocity of pipe flow\n",
    "\n",
    "#Calculations\n",
    "Re = rho1*v1*D1/mu1\n",
    "\n",
    "# output\n",
    "print(\"The Reynold's number is {0:1.3f}\".format(Re), \"\\n\")\n",
    "\n",
    "if Re < 2000:\n",
    "    print(\"It is laminar flow\")\n",
    "elif Re == 2000 and Re <= 4000:\n",
    "    print(\"It is Transitional flow\")\n",
    "elif Re > 4000:\n",
    "    print(\"It is Turbulent flow\")\n",
    "    \n"
   ]
  },
  {
   "cell_type": "markdown",
   "metadata": {
    "slideshow": {
     "slide_type": "slide"
    }
   },
   "source": [
    "\n",
    "### Problem 2 - Conservation of mass\n",
    "\n",
    "Water flows through a branching pipeline as shown in the diagram. If the diameter, $D_2$, is\n",
    "\t250 mm, $v_2 = 1.77$ m/s and $V_3 = 1.43$ m/s:\n",
    "    \n",
    "1. what diameter, $D_3$, is required for $Q_3 = 2 Q_2$?\n",
    "\n",
    "2. what is the total discharge at section 1?\n",
    "\n",
    "<img src=\"figs/S4-P2.png\" alt=\"Problem 2\" width=\"400\">\n",
    "\n"
   ]
  },
  {
   "cell_type": "markdown",
   "metadata": {
    "slideshow": {
     "slide_type": "subslide"
    }
   },
   "source": [
    "### Solution of Problem 2 ###\n",
    "\n",
    "The relevant equations are (check L4 slides 30)\n",
    "\n",
    "The main equation is:\n",
    "\n",
    "$$\n",
    "v_1 A_1 = v_2 A_2 \n",
    "$$\n",
    "\n",
    "with $A = \\frac{\\pi}{4} D^2$\n",
    "\n",
    "$$\n",
    "\\frac{\\pi}{4} D_1^2 \\cdot v_1 = \\frac{\\pi}{4} D_2^2 \\cdot v_2\n",
    "$$\n",
    "and\n",
    "$$\n",
    "D_1 = \\sqrt{\\frac{ v_2 }{v_1}\\cdot D_2^2}\n",
    "$$\n",
    "\n",
    "Information provided in the problem are:\n",
    "\n",
    "$Q_3 = 2\\times Q_2$\n",
    "\n",
    "$Q_1 = Q_2 + Q_3$\n",
    "\n"
   ]
  },
  {
   "cell_type": "code",
   "execution_count": 3,
   "metadata": {
    "slideshow": {
     "slide_type": "subslide"
    }
   },
   "outputs": [
    {
     "name": "stdout",
     "output_type": "stream",
     "text": [
      "The pressure difference is 0.39 m \n",
      "\n",
      "The Discharge at section 1  is 0.26 m²\n"
     ]
    }
   ],
   "source": [
    "# Given are:\n",
    "\n",
    "v2_2 = 1.77 # m/s velocity section 2\n",
    "v2_3 = 1.43 # m/s velocity in section 3\n",
    "D2_2 = 250 # mm diameter of section 2\n",
    "\n",
    "# interim calculation\n",
    "D2_2m = 250/1000 # m, changing unit of D2_2 to m\n",
    "Q2_2 = np.pi/4*D2_2m**2 *v2_2 # m^3/s, discharge Q2\n",
    "\n",
    "# Solution problem \n",
    "D2_3 = np.sqrt(2* (v2_2/v2_3) * D2_2m**2) # m, diameter section 3. Multiplied by 2 as Q3 = 2* Q2\n",
    "Q2_3 = np.pi/4*D2_3**2 *v2_3 # m^3/s, discharge at Q2_3\n",
    "Q2_1 = Q2_2 + Q2_3\n",
    "\n",
    "# output\n",
    "print(\"The pressure difference is {0:1.2f}\".format(D2_3),\"m\", \"\\n\")\n",
    "print(\"The Discharge at section 1  is {0:1.2f}\".format(Q2_1),\"m\\u00b2\")\n"
   ]
  },
  {
   "cell_type": "markdown",
   "metadata": {
    "slideshow": {
     "slide_type": "slide"
    }
   },
   "source": [
    "###  Problem 3 - Conservation of momentum\n",
    "\n",
    "A pipeline with a constant diameter of 0.3 m turns through an angle of 60$^\\circ$. The centreline of\n",
    "the pipe does not change elevation. The discharge through the pipeline is 0.1 m<sup>3</sup>/s of water, and\n",
    "the pressure at the bend is 30 m of water. Calculate the magnitude and direction of the resultant\n",
    "force on the pipe.\t\n",
    "\n",
    "\n",
    "\n"
   ]
  },
  {
   "cell_type": "markdown",
   "metadata": {
    "slideshow": {
     "slide_type": "subslide"
    }
   },
   "source": [
    "### Solution of Problem 3\n",
    "\n",
    "The relevant information and equations can be found in slides L3: 35-36\n",
    "\n",
    "Equations to use are:\n",
    "\n",
    "$$\n",
    "A_1v_1 = A_2 v_s\n",
    "$$\n",
    "\n",
    "$$\n",
    "P_1\\cdot A_1 - P_2\\cdot \\cos\\theta \\cdot A_2- F_{rx}=\\\\ = \\rho \\cdot Q \\cdot (v_2 \\cdot\\cos\\theta - v_1)\n",
    "$$\n",
    "\n",
    "$$\n",
    "F_{r,y} - P_2 \\cdot \\cos\\theta \\cdot A_2=\\\\  =\\rho \\cdot Q \\cdot (v_2\\cdot \\sin\\theta)\n",
    "$$                \n",
    "\n",
    "$$\n",
    "F_r = \\sqrt{F_{r,x}^2 + F_{r,y}^2 }\n",
    "$$\n",
    "and\n",
    "$$\n",
    "\\theta = \\arctan \\Big(\\frac{F_{r,y}}{F_{r,x}}\\Big)\n",
    "$$\n",
    "\n",
    "\n"
   ]
  },
  {
   "cell_type": "markdown",
   "metadata": {
    "slideshow": {
     "slide_type": "subslide"
    }
   },
   "source": [
    "### Solution of Problem 3\n",
    "\n",
    "Draw the free body diagram of the problem \n",
    "\n",
    "<img src=\"figs/S4-P3.png\" alt=\"problem 3\" width=500>\n",
    "\n",
    "The given information are:"
   ]
  },
  {
   "cell_type": "code",
   "execution_count": 4,
   "metadata": {
    "slideshow": {
     "slide_type": "subslide"
    }
   },
   "outputs": [],
   "source": [
    "# Given are:\n",
    "\n",
    "ae = 60 # degree, pipe bending\n",
    "D3 = 0.3 # m, pipe diameter\n",
    "Q3 = 0.1 # m^3/s, discharge through pipe\n",
    "Ph = 30 # m , water height at the bend\n",
    "rho3 = 1000 # kg/m^3, density of water\n",
    "g3 = 9.81 # m/s^2, gravity\n",
    "\n",
    "# interim calculation -  #Calculation of A, v and P \n",
    "ae_r = ae*np.pi/180\n",
    "A3_1 = A3_2 = np.pi/4*D3**2 # pipe area at section 1 and 2. Constant dia.\n",
    "v3_1 = v3_2 = Q3/A3_1 #m^3/s, Q= AV and since A is equal and Q is conserved\n",
    "P3_1 = P3_2 = rho3*g3*Ph # N/m^2, since A and V are equal, P1 = P2 = rho*g * h\n",
    "\n",
    "# interim calculation -  #Forces calculation in X-direction \n",
    "F_1x = P3_1*A3_1 # N, Force at 1 in x,  F= P.A\n",
    "F_2x = P3_2*A3_2* np.cos(ae_r) # N, force at 2 in x\n",
    "F_rx = P3_1*A3_1 - P3_2*A3_2*np.cos(ae_r)-rho3*Q3*(v3_2*np.cos(ae_r)-v3_1)\n"
   ]
  },
  {
   "cell_type": "code",
   "execution_count": 5,
   "metadata": {
    "slideshow": {
     "slide_type": "subslide"
    }
   },
   "outputs": [
    {
     "name": "stdout",
     "output_type": "stream",
     "text": [
      "The resultant force is:20944.31 N \n",
      "\n",
      "The resultant is acting at: 60.00 ° \n"
     ]
    }
   ],
   "source": [
    "# interim calculation -  #Forces calculation in y-direction \n",
    "F_1y = 0\n",
    "F_2y = P3_2*A3_2*np.sin(ae_r)\n",
    "F_ry = rho3*Q3*(v3_2*np.sin(ae_r))+ P3_2*A3_2*np.sin(ae_r)\n",
    "\n",
    "# calculation of part 1 and 2\n",
    "F_r = np.sqrt(F_rx**2+ F_ry**2) # N, resultant force\n",
    "Dir_r = np.arctan(F_ry/F_rx) # rad, direction of resultant in radian\n",
    "Dir_t = Dir_r*180/np.pi # Degree, direction of resultant in degress\n",
    "\n",
    "# Output\n",
    "print(\"The resultant force is:{0:1.2f}\".format(F_r), \"N \\n\")\n",
    "print(\"The resultant is acting at: {0:1.2f}\".format(Dir_t),\"\\u00b0 \")"
   ]
  },
  {
   "cell_type": "markdown",
   "metadata": {
    "slideshow": {
     "slide_type": "slide"
    }
   },
   "source": [
    "### Problem 4- Conservation of Energy\n",
    "\n",
    "From a large reservoir water is released via a syphon.\n",
    "The pipe diameter is 200 mm. The end of the syphon pipe is 3.2 m below the water level of the reservoir.\n",
    "The highest part of the syphon is 2.3 m above the water level of the reservoir. Water level remains constant, no losses. Calculate:\n",
    "\n",
    "Calculate the discharge. \n",
    "\n",
    "Calculate the pressure head at the highest point of the syphon.\n",
    "\n",
    "<img src=\"figs/S4-P4.png\" alt=\"problem 4\" width=300>\n"
   ]
  },
  {
   "attachments": {},
   "cell_type": "markdown",
   "metadata": {
    "slideshow": {
     "slide_type": "subslide"
    }
   },
   "source": [
    "### Solution of Problem 4\n",
    "\n",
    "The lecture contents on the problem can be found in slided  L4- 45-48.\n",
    "\n",
    "Basic equations are:\n",
    "\n",
    "**Bernoulli Equation:**\n",
    "\n",
    "$$\n",
    "z_1 + \\frac{1}{2} \\frac{ v_1^2}{g} + \\frac{P_1}{\\rho\\cdot g} =  z_2 + \\frac{1}{2} \\frac{ v_2^2}{g} + \\frac{P_2}{\\rho\\cdot g}\n",
    "$$\n",
    "\n",
    "and \n",
    "\n",
    "**Continuity Equation:**\n",
    "\n",
    "$$\n",
    "A_1 v_1 = A_2 v_2\n",
    "$$\n",
    "\n",
    "Steps to solve the problem:\n",
    "\n",
    "**Step 1**: Drawing including the known and unknown variables $v$, $P$ and $z$\n",
    "\n",
    "**Step 2**:  Decide which points and reference level to use for analysis and which calculation steps to take\n",
    "\n",
    "<img src=\"figs/S4-P4a.png\" alt=\"problem 4\" width=400>\n"
   ]
  },
  {
   "attachments": {},
   "cell_type": "markdown",
   "metadata": {
    "slideshow": {
     "slide_type": "subslide"
    }
   },
   "source": [
    "### Solution of Problem 4\n",
    "\n",
    "**Step 3**: Bernoulli equation for points 1-2 to calculate $v_2$ using reference level 1-2.\n",
    "\n",
    "**Step 4**  Use Continuity equation for points 2-3 \n",
    "to calculate $Q_2$.\n",
    "\n",
    "**Step 5**  Bernoulli equation for points 1-3 to calculate $P_3$ using reference level 2-3.\n",
    "\n",
    "<img src=\"figs/S4-P4b.png\" alt=\"problem 4\" width=900>\n",
    "\n",
    "\n",
    "\n"
   ]
  },
  {
   "cell_type": "code",
   "execution_count": 10,
   "metadata": {
    "slideshow": {
     "slide_type": "subslide"
    }
   },
   "outputs": [
    {
     "name": "stdout",
     "output_type": "stream",
     "text": [
      "Velocity at point 2 is: 7.924 m/s\n"
     ]
    }
   ],
   "source": [
    "#Solution of Problem 4. Given are:\n",
    "#Step 3 Bernoulli eq. 1-2 obtain v_2\n",
    "\n",
    "z4_1 = 3.2 #m, elevation point 1 from ref 1-2\n",
    "z4_2 = 0 # m, elevation point 2 from ref 1-2\n",
    "v4_1 = 0 # m/s, velocity point 1\n",
    "P4_1 = 0 # N/m^2, pressure point 1 (atmospheric)\n",
    "P4_2 = 0 # N/m^2, pressure point 2 (atmospheric)\n",
    "g4 = 9.81 # m/s^2, Gravity\n",
    "\n",
    "#Using Bernouli's equation\n",
    "v4_2 = np.sqrt(2*g4*z4_1) #m/s- 3.2 + 0 + 0 = 0 + v^2/2g + 0\n",
    "\n",
    "#output\n",
    "print(\"Velocity at point 2 is: {0:1.3f}\".format( v4_2),  'm/s')\n"
   ]
  },
  {
   "cell_type": "code",
   "execution_count": 15,
   "metadata": {
    "slideshow": {
     "slide_type": "subslide"
    }
   },
   "outputs": [
    {
     "name": "stdout",
     "output_type": "stream",
     "text": [
      "Discharge in the system is: 0.249 m³/s\n"
     ]
    }
   ],
   "source": [
    "#Solution of Problem 4. \n",
    "#Step 4- Continuity eq. 2-3, obtain Q_3\n",
    "\n",
    "d4 = 0.2 # m, diameter of the pipe\n",
    "v4_3 = v4_2 # m/s, Q and A are same so v is also same \n",
    "\n",
    "#interim calculation\n",
    "A4_2 = A4_3 = np.pi/4*d4**2  # m^2, area of cross-section. it is same everywher\n",
    "\n",
    "#calculation\n",
    "Q4 = A4_3*v4_3 # m^3/s- discharge is conserved\n",
    "\n",
    "#output\n",
    "print(\"Discharge in the system is: {0:1.3f}\".format( Q4),  'm\\u00b3/s')\n"
   ]
  },
  {
   "cell_type": "code",
   "execution_count": 25,
   "metadata": {
    "slideshow": {
     "slide_type": "slide"
    }
   },
   "outputs": [
    {
     "name": "stdout",
     "output_type": "stream",
     "text": [
      "Pressure at point 3 in the system is: -53955.000 N/m²\n"
     ]
    }
   ],
   "source": [
    "#Solution of Problem 4. \n",
    "#Step 5- Bernoulli's eq. 1-3, obtain P3\n",
    "#Avaialable are\n",
    "\n",
    "z4_1u = 0 # m, elevation from ref line 2-3 to point 1\n",
    "z4_3u = 2.3 # m, elevation from ref line 2-3 to point 3 \n",
    "v4_1 = 0 # m/s, velocity at point 1\n",
    "P4_1 = 0 # N/m^2, atmospheric pressure\n",
    "rho4 = 1000 # kg/m^3, fluid density\n",
    "v4_3u = v4_3 # m/s velocity at point 3 from previous step\n",
    "\n",
    "#calculation\n",
    "# N/m^2 - 0+0+0 = z3 + v3^2/2.g + P3/rho*g\n",
    "P4_3 =(-z4_3u - v4_3u**2/(2*g4))*rho4*g4 \n",
    "\n",
    "#output\n",
    "print(\"Pressure at point 3 in the system is: {0:1.3f}\".format(P4_3),  'N/m\\u00b2')\n"
   ]
  },
  {
   "cell_type": "markdown",
   "metadata": {
    "slideshow": {
     "slide_type": "slide"
    }
   },
   "source": [
    "# Assignment problem to be updated."
   ]
  }
 ],
 "metadata": {
  "celltoolbar": "Slideshow",
  "hide_input": false,
  "kernel_info": {
   "name": "python3"
  },
  "kernelspec": {
   "display_name": "Python 3",
   "language": "python",
   "name": "python3"
  },
  "language_info": {
   "codemirror_mode": {
    "name": "ipython",
    "version": 3
   },
   "file_extension": ".py",
   "mimetype": "text/x-python",
   "name": "python",
   "nbconvert_exporter": "python",
   "pygments_lexer": "ipython3",
   "version": "3.7.3"
  },
  "latex_envs": {
   "LaTeX_envs_menu_present": true,
   "autoclose": false,
   "autocomplete": false,
   "bibliofile": "biblio.bib",
   "cite_by": "apalike",
   "current_citInitial": 1,
   "eqLabelWithNumbers": false,
   "eqNumInitial": 1,
   "hotkeys": {
    "equation": "Ctrl-E",
    "itemize": "Ctrl-I"
   },
   "labels_anchors": false,
   "latex_user_defs": false,
   "report_style_numbering": false,
   "user_envs_cfg": false
  },
  "nteract": {
   "version": "0.15.0"
  },
  "rise": {
   "backimage": "figs/HTWlogo.png",
   "footer": "<h4>Seminar 01, 15.10.2020, P. Yadav</h4>",
   "header": "<h2>Hydraulic Modelling</h2>"
  },
  "varInspector": {
   "cols": {
    "lenName": 16,
    "lenType": 16,
    "lenVar": 40
   },
   "kernels_config": {
    "python": {
     "delete_cmd_postfix": "",
     "delete_cmd_prefix": "del ",
     "library": "var_list.py",
     "varRefreshCmd": "print(var_dic_list())"
    },
    "r": {
     "delete_cmd_postfix": ") ",
     "delete_cmd_prefix": "rm(",
     "library": "var_list.r",
     "varRefreshCmd": "cat(var_dic_list()) "
    }
   },
   "types_to_exclude": [
    "module",
    "function",
    "builtin_function_or_method",
    "instance",
    "_Feature"
   ],
   "window_display": false
  }
 },
 "nbformat": 4,
 "nbformat_minor": 2
}
