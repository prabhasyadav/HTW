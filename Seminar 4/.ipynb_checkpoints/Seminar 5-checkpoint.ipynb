{
 "cells": [
  {
   "cell_type": "code",
   "execution_count": 1,
   "metadata": {
    "slideshow": {
     "slide_type": "skip"
    }
   },
   "outputs": [],
   "source": [
    "import numpy as np"
   ]
  },
  {
   "cell_type": "markdown",
   "metadata": {
    "slideshow": {
     "slide_type": "slide"
    }
   },
   "source": [
    "# Seminar 5 #\n",
    "\n",
    "## Flow Measurements\n",
    "\n",
    " 1. **Hydrodynamics II**\n",
    "\n"
   ]
  },
  {
   "cell_type": "markdown",
   "metadata": {
    "slideshow": {
     "slide_type": "slide"
    }
   },
   "source": [
    "\n",
    "### Problem 1 - Venturi Meter\n",
    "\n",
    "Water flows along a horizontal pipeline of 100 mm diameter at an unknown rate. A Venturi meter\n",
    "installed in the pipeline indicates a piezometric head (pressure head) of 950 mm at the entrance and 200mm at\n",
    "the throat. The throat diameter is 60 mm. If the $C_D = 0.97$, what is the discharge through the\n",
    "pipeline?\n",
    "\n",
    "\n",
    "### Solution of Problem 1\n",
    "\n",
    "The relevant equations can be found in slides L5 - slides 6-7\n",
    "\n",
    "The main equation is:\n",
    "\n",
    "$$ \n",
    "Q_A = C_D A_1 \\sqrt{\\frac{2gH}{[(A_1/A_2)^2-1]}} \n",
    "$$\n",
    "\n",
    "with $H = P_1 - P_2 $ and $ A = \\pi D^2/4$\n"
   ]
  },
  {
   "cell_type": "code",
   "execution_count": 16,
   "metadata": {},
   "outputs": [
    {
     "name": "stdout",
     "output_type": "stream",
     "text": [
      "The resulting discharge is: 0.0113 m³/s\n"
     ]
    }
   ],
   "source": [
    "#Solution problem 1\n",
    "# Given are:\n",
    "D1 = 100 # mm, diameter of pipe\n",
    "D2 = 60 # mm, thraot diameter\n",
    "P1 = 950 # mm, pressure head at inlet\n",
    "P2 = 200 # mm, pressure head at throat\n",
    "CD1 = 0.97# [], coeff. of discharge.\n",
    "g1 = 9.81 # m/s^2, gravity\n",
    "\n",
    "# Interim calculation\n",
    "A1 = np.pi*D1**2/4*(1/1E6) # m^2, area at inlet, unit converted\n",
    "A2 = np.pi*D2**2/4*(1/1E6) # m^2, area at throat, unit converted\n",
    "H = (P1-P2)*1/1000 # m, difference in pressure head between inlet and throat.\n",
    "\n",
    "# calculation (see equation above for Q_A)\n",
    "QA = CD1*A1*np.sqrt(2*g1*H/((A1/A2)**2 -1 ))\n",
    "\n",
    "#output\n",
    "print(\"The resulting discharge is: {0:1.4f}\".format(QA), \"m\\u00b3/s\")\n"
   ]
  },
  {
   "cell_type": "markdown",
   "metadata": {
    "slideshow": {
     "slide_type": "slide"
    }
   },
   "source": [
    "# Assignment problems - Next week\n",
    "\n"
   ]
  },
  {
   "cell_type": "code",
   "execution_count": null,
   "metadata": {},
   "outputs": [],
   "source": []
  }
 ],
 "metadata": {
  "celltoolbar": "Slideshow",
  "hide_input": false,
  "kernel_info": {
   "name": "python3"
  },
  "kernelspec": {
   "display_name": "Python 3",
   "language": "python",
   "name": "python3"
  },
  "language_info": {
   "codemirror_mode": {
    "name": "ipython",
    "version": 3
   },
   "file_extension": ".py",
   "mimetype": "text/x-python",
   "name": "python",
   "nbconvert_exporter": "python",
   "pygments_lexer": "ipython3",
   "version": "3.7.3"
  },
  "latex_envs": {
   "LaTeX_envs_menu_present": true,
   "autoclose": false,
   "autocomplete": false,
   "bibliofile": "biblio.bib",
   "cite_by": "apalike",
   "current_citInitial": 1,
   "eqLabelWithNumbers": false,
   "eqNumInitial": 1,
   "hotkeys": {
    "equation": "Ctrl-E",
    "itemize": "Ctrl-I"
   },
   "labels_anchors": false,
   "latex_user_defs": false,
   "report_style_numbering": false,
   "user_envs_cfg": false
  },
  "nteract": {
   "version": "0.15.0"
  },
  "rise": {
   "backimage": "figs/HTWlogo.png",
   "footer": "<h4>Seminar 01, 15.10.2020, P. Yadav</h4>",
   "header": "<h2>Hydraulic Modelling</h2>"
  },
  "varInspector": {
   "cols": {
    "lenName": 16,
    "lenType": 16,
    "lenVar": 40
   },
   "kernels_config": {
    "python": {
     "delete_cmd_postfix": "",
     "delete_cmd_prefix": "del ",
     "library": "var_list.py",
     "varRefreshCmd": "print(var_dic_list())"
    },
    "r": {
     "delete_cmd_postfix": ") ",
     "delete_cmd_prefix": "rm(",
     "library": "var_list.r",
     "varRefreshCmd": "cat(var_dic_list()) "
    }
   },
   "types_to_exclude": [
    "module",
    "function",
    "builtin_function_or_method",
    "instance",
    "_Feature"
   ],
   "window_display": false
  }
 },
 "nbformat": 4,
 "nbformat_minor": 2
}
