{
 "cells": [
  {
   "cell_type": "code",
   "execution_count": 51,
   "metadata": {
    "slideshow": {
     "slide_type": "skip"
    }
   },
   "outputs": [],
   "source": [
    "import numpy as np\n"
   ]
  },
  {
   "cell_type": "markdown",
   "metadata": {
    "slideshow": {
     "slide_type": "slide"
    }
   },
   "source": [
    "# Seminar 6 #\n",
    "\n",
    "## Open Channel Flow\n",
    "\n",
    " 1. **Hydrodynamics III**\n",
    "\n"
   ]
  },
  {
   "cell_type": "markdown",
   "metadata": {
    "slideshow": {
     "slide_type": "slide"
    }
   },
   "source": [
    "\n",
    "### Problem 1 -  Open Channel Flow\n",
    "\n",
    "For the rectangular channel ($B = 4.6$ m, and $S_o = 1/400$)   taking the $n$ value as 0.040 s/m$^{1/3}$, calculate the\n",
    "depth of flow, $D$, that corresponds to a discharge of 2.83 m$^3$/s\n",
    "\n",
    "(a) when $B>>D$, \n",
    "\n",
    "(b) When $B>>D$ is not true.\n",
    "\n",
    "\n",
    "### Solution of Problem 1\n",
    "\n",
    "The relevant equations can be found in slides L6 - slides 13-15, 19\n",
    "\n",
    "The main equation is:\n",
    "\n",
    "$$ \n",
    "Q= \\frac{A}{n}\\cdot R^{2/3}\\cdot S_o^{1/2}\n",
    "$$\n",
    "\n",
    "with $A = B\\cdot B$, $P= (B+2 D)$\n",
    "\n",
    "**Case 1.** For wide rectangular channel $R = D$\n",
    "\n",
    "\n",
    "$$\n",
    "Q = (B\\cdot D/n)(D)^{2/3}S_o^{1/2}\n",
    "$$\n",
    "\n",
    "$$\n",
    "D^{5/3} = (Q\\cdot n)/(B S_o^{1/2})\n",
    "$$\n",
    "\n",
    "**Case 2.** For channel $R \\neq D$\n",
    "\n",
    "$$\n",
    "Q = (B\\cdot D/n)(B\\cdot D/(B+2\\cdot D)^{2/3}S_o^{1/2}\n",
    "$$\n",
    "\n",
    "$D$ can not be isolated and so can not be directly solved.\n"
   ]
  },
  {
   "cell_type": "code",
   "execution_count": 7,
   "metadata": {
    "slideshow": {
     "slide_type": "slide"
    }
   },
   "outputs": [
    {
     "name": "stdout",
     "output_type": "stream",
     "text": [
      "The resulting diameter is: 0.65 m\n"
     ]
    }
   ],
   "source": [
    "#Solution problem 1(a)\n",
    "# Given are:\n",
    "B1 = 4.6 # m, width of channel\n",
    "So1= 1/400 # [ ], slope of riverbed\n",
    "n1 = 0.040 # sm^1/3, Manning coefficient\n",
    "Q1 = 2.83# m^3/s, discharge.\n",
    "g1 = 9.81 # m/s^2, gravity\n",
    "\n",
    "# Interim calculation\n",
    "Int1 = (B1*So1**(1/2)) # B^2/3*So^1/2\n",
    "\n",
    "# calculation (see equation above for case 1)\n",
    "D1_a = ((Q1*n1)/Int1)**(3/5)\n",
    "\n",
    "#output\n",
    "print(\"The resulting diameter is: {0:1.2f}\".format(D1_a), \"m\")\n"
   ]
  },
  {
   "cell_type": "code",
   "execution_count": 52,
   "metadata": {
    "slideshow": {
     "slide_type": "slide"
    }
   },
   "outputs": [
    {
     "name": "stdout",
     "output_type": "stream",
     "text": [
      "In this example f(D) = 0 for D = 0.7-0.8 m\n"
     ]
    },
    {
     "data": {
      "image/png": "[encoded data removed]",
      "text/plain": [
       "<Figure size 432x288 with 1 Axes>"
      ]
     },
     "metadata": {
      "needs_background": "light"
     },
     "output_type": "display_data"
    }
   ],
   "source": [
    "#Solution problem 1(b)\n",
    "# No direct solution available. \n",
    "# Let us define the equation Q = f(D), and f(D)-Q = 0\n",
    "\n",
    "def mych(D):\n",
    "    D_1 = (B1*D/n1)*((B1*D)/(B1+2*D))**(2/3)*So1**(1/2)-Q1 \n",
    "    return D_1\n",
    "\n",
    "# Q = f(D); f(D)-Q = 0, with known Q, we need to find a D where f(D)-Q = 0.\n",
    "# Easiest way to do is to plot f(D) for many D's\n",
    "\n",
    "import matplotlib.pyplot as plt \n",
    "D = np.linspace(0.5,1, 100)\n",
    "D_n = mych(D) \n",
    "plt.plot(D, D_n ), plt.grid() \n",
    "plt.xlabel(\"D (m)\", color = 'r'), plt.ylabel(\"f(D)\", color = 'r')\n",
    "\n",
    "print(\"In this example f(D) = 0 for D = 0.7-0.8 m\") "
   ]
  },
  {
   "cell_type": "markdown",
   "metadata": {
    "slideshow": {
     "slide_type": "subslide"
    }
   },
   "source": [
    "## Iterative Method ##\n",
    "\n",
    "The plot provides an estimate for $D$, which is between 0.7-0.8 m.\n",
    "\n",
    "To get the exact iterative methods are required. There are quite a few iterative methods that can solve this problem, e.g., Newton's method, Bisection method, Secant method. \n",
    "\n",
    "The solution is also called **root**.\n",
    "\n",
    "Details of this method can be found in standard Numerical Mathematics books.\n",
    "\n",
    "python **_scipy.optimize_** library provide functions to easily compute the root. We use **_fsolve_** which uses Newton method to find root here.\n",
    "\n",
    "Newton Method:\n",
    "$$\n",
    "D_{new} = D - \\frac{f'(D)}{f(D)} \n",
    "$$\n",
    "\n",
    "When $D_{new} = D$, i.e. $\\frac{f'(D)}{f(D)} \\approx 0$, the required $D$ is obtained.\n",
    "\n",
    "**_fsolve_** code in scipy check _help(scipy.optimize)_ to see detail\n",
    "\n",
    "**_fsolve(f, Dg)_** with function _f_ and _Dg_ is the first guess of _D_."
   ]
  },
  {
   "cell_type": "code",
   "execution_count": 9,
   "metadata": {
    "slideshow": {
     "slide_type": "subslide"
    }
   },
   "outputs": [
    {
     "name": "stdout",
     "output_type": "stream",
     "text": [
      "The required diameter is: 0.730 m\n"
     ]
    }
   ],
   "source": [
    "from scipy.optimize import fsolve\n",
    "\n",
    "D1_g = 0.65\n",
    "\n",
    "D1_ex = fsolve(mych,D1_g)\n",
    "\n",
    "print(\"The required diameter is: {0:1.3f}\".format(D1_ex[0]),\"m\")"
   ]
  },
  {
   "cell_type": "markdown",
   "metadata": {
    "slideshow": {
     "slide_type": "slide"
    }
   },
   "source": [
    "\n",
    "### Problem 2 - Optimum section \n",
    "\n",
    "A rectangular, concrete lined channel is to be constructed to carry floodwater. The slope of the\n",
    "ground surface is 1 in 500. The design discharge is 10 m<sup>3</sup>/s. \n",
    "\n",
    "(a)  Calculate the proportions of the rectangular channel that will minimize excavation and result in the optimum hydraulic section.\n",
    "\t\t\n",
    "(b)  If the cross-sectional area of flow is kept the same as in part (a) but for safety reasons the\n",
    "depth of flow in the channel is limited to 1.00 m, what will be the discharge now?\n"
   ]
  },
  {
   "cell_type": "markdown",
   "metadata": {
    "slideshow": {
     "slide_type": "subslide"
    }
   },
   "source": [
    "## Solution of Problem 2 ##\n",
    "\n",
    "The relevant lecture slides are: L6 -13 and 21\n",
    "\n",
    "Important relations are:\n",
    "\n",
    "$$\n",
    "Q = \\frac{A}{n}R^{2/3}S_o^{1/2}\n",
    "$$\n",
    "\n",
    "For optimum section $A = 2 D^2$ and $R = 0.5 D$\n",
    "\n",
    "$$\n",
    "Q = \\frac{2D^2}{n}(0.5 D)^{2/3}S_o^{1/2}\n",
    "$$"
   ]
  },
  {
   "cell_type": "code",
   "execution_count": 2,
   "metadata": {
    "slideshow": {
     "slide_type": "subslide"
    }
   },
   "outputs": [
    {
     "name": "stdout",
     "output_type": "stream",
     "text": [
      "The required diameter is: 1.444 m\n",
      "The required width is: 2.887 m\n",
      "The required Area is: 4.168 m²\n"
     ]
    }
   ],
   "source": [
    "# solution 2(a)\n",
    "# Given are\n",
    "\n",
    "So2 = 1/500 # [], slope of bed\n",
    "n2 = 0.015 # s/m^1/3, Manning coeff.\n",
    "Q2 = 10 # m^3/s, discharge\n",
    "\n",
    "#interim calculation \n",
    "Int2 = (2/n2)*0.5**(2/3)*So2**(1/2) # all in RHS except D\n",
    "\n",
    "#Calculation\n",
    "D2 = (Q2/Int2)**(3/8)\n",
    "A2 = 2*D2**2\n",
    "\n",
    "# Output\n",
    "print(\"The required diameter is: {0:1.3f}\".format(D2),\"m\")\n",
    "print(\"The required width is: {0:1.3f}\".format(2*D2),\"m\")\n",
    "print(\"The required Area is: {0:1.3f}\".format(A2),\"m\\u00b2\")"
   ]
  },
  {
   "cell_type": "code",
   "execution_count": 3,
   "metadata": {
    "slideshow": {
     "slide_type": "subslide"
    }
   },
   "outputs": [
    {
     "name": "stdout",
     "output_type": "stream",
     "text": [
      "The required discharge is: 9.570 m³/s\n",
      "The decreased in discharge is: 4.30 %\n"
     ]
    }
   ],
   "source": [
    "# solution 2(b)\n",
    "# Given are\n",
    "\n",
    "D2_a = 1.0 # m, new depth\n",
    "\n",
    "# interim equation \n",
    "W2 = A2/D2_a # m, Width = Area/Depth\n",
    "Pr2 = W2 + 2*D2_a # m, wetted perimeter Pr = W+2D\n",
    "\n",
    "# Calculation (using Manning eq.)\n",
    "Q2_a = A2/n2*(A2/Pr2)**(2/3)*(1/500)**(1/2)\n",
    "\n",
    "# Output\n",
    "print(\"The required discharge is: {0:1.3f}\".format(Q2_a),\"m\\u00b3/s\")\n",
    "if Q2_a>Q2:\n",
    "    Q2_c = (Q2_a-Q2)/Q2*100\n",
    "    print(\"The increase in discharge is: {0:1.3f}\".format(Q2_c), \"%\")\n",
    "elif Q2_a<Q2:\n",
    "    Q2_c = (Q2-Q2_a)/Q2*100\n",
    "    print(\"The decreased in discharge is: {0:1.2f}\".format(Q2_c), \"%\")\n"
   ]
  },
  {
   "cell_type": "markdown",
   "metadata": {
    "slideshow": {
     "slide_type": "slide"
    }
   },
   "source": [
    "## Problem 3 - Compound Channel ##\n",
    "\n",
    "A compound channel has the cross-section shown in Fig. below. The values next to the perimeter boundaries are the Manning roughness values ($ n$ s/m$^{1/3}$1/3). Calculate $n_{av}$.\n",
    "\n",
    "<img src=\"figs/S6-P3.png\" alt=\"problem 3\" width=500>\n"
   ]
  },
  {
   "cell_type": "markdown",
   "metadata": {
    "slideshow": {
     "slide_type": "subslide"
    }
   },
   "source": [
    "## Solution Problem 3 - Compound Channel ##\n",
    "\n",
    "The relevant information can be found in slides: L6 - 25.\n",
    "\n",
    "The main equation is:\n",
    "\n",
    "$$\n",
    "n_{av} = \\Bigg[\\frac{\\sum_{i=1}^{N}P_i\\cdot n_i^{2}}{P}\\Bigg]^{1/2}\n",
    "$$\n",
    "\n",
    "Provides information are:"
   ]
  },
  {
   "cell_type": "code",
   "execution_count": 8,
   "metadata": {},
   "outputs": [
    {
     "name": "stdout",
     "output_type": "stream",
     "text": [
      "The required average Manning coefficient is: 0.065 s/m^1/3\n"
     ]
    }
   ],
   "source": [
    "# solution Problem 3, \n",
    "#Given\n",
    "\n",
    "n3_l = np.array([0.080, 0.060, 0.020, 0.040, 0.030, 0.070, 0.1]) \n",
    "P3_l = np.array([2, 20, 3, 10, 3, 15, 8.246])\n",
    "\n",
    "# interim calculation\n",
    "P3 = np.sum(P3_l)\n",
    "Pn3_l = P3_l*n3_l**2\n",
    "\n",
    "# calculation\n",
    "n3_av = (np.sum(Pn3_l)/P3)**(1/2)\n",
    "\n",
    "#Output\n",
    "print(\"The required average Manning coefficient is: {0:1.3f}\".format(n3_av),\"s/m^1/3\")\n",
    "#import pandas as pd\n",
    "#Data3 = pd.DataFrame({\"n\": n3_l, \"Pr\": P3_l, \"n.Pr\":Pn3_l }) \n",
    "#Data3"
   ]
  },
  {
   "cell_type": "markdown",
   "metadata": {
    "slideshow": {
     "slide_type": "slide"
    }
   },
   "source": [
    "## Problem 4- Specific Energy ##\n",
    "\n",
    "Rectangular channel: \n",
    "\n",
    "Breadth $B$ = 1.0 m\n",
    "\n",
    "Flow $Q$ = 1 m<sup>3</sup>/s\n",
    "\n",
    "Water depth $D$ = 5 m – 0.1 m\n",
    "\n",
    "Calculate Area $A$, Velocity $v$, specific energy $E$ and Froude number $F$"
   ]
  },
  {
   "cell_type": "code",
   "execution_count": 98,
   "metadata": {},
   "outputs": [
    {
     "data": {
      "text/html": [
       "<div>\n",
       "<style scoped>\n",
       "    .dataframe tbody tr th:only-of-type {\n",
       "        vertical-align: middle;\n",
       "    }\n",
       "\n",
       "    .dataframe tbody tr th {\n",
       "        vertical-align: top;\n",
       "    }\n",
       "\n",
       "    .dataframe thead th {\n",
       "        text-align: right;\n",
       "    }\n",
       "</style>\n",
       "<table border=\"1\" class=\"dataframe\">\n",
       "  <thead>\n",
       "    <tr style=\"text-align: right;\">\n",
       "      <th></th>\n",
       "      <th>Depth</th>\n",
       "      <th>Area</th>\n",
       "      <th>velocity</th>\n",
       "      <th>V^2/2g</th>\n",
       "      <th>E</th>\n",
       "      <th>F</th>\n",
       "    </tr>\n",
       "  </thead>\n",
       "  <tbody>\n",
       "    <tr>\n",
       "      <td>0</td>\n",
       "      <td>0.100000</td>\n",
       "      <td>0.100000</td>\n",
       "      <td>10.000000</td>\n",
       "      <td>5.096840</td>\n",
       "      <td>5.196840</td>\n",
       "      <td>10.096376</td>\n",
       "    </tr>\n",
       "    <tr>\n",
       "      <td>1</td>\n",
       "      <td>0.225641</td>\n",
       "      <td>0.225641</td>\n",
       "      <td>4.431818</td>\n",
       "      <td>1.001071</td>\n",
       "      <td>1.226712</td>\n",
       "      <td>2.978780</td>\n",
       "    </tr>\n",
       "    <tr>\n",
       "      <td>2</td>\n",
       "      <td>0.351282</td>\n",
       "      <td>0.351282</td>\n",
       "      <td>2.846715</td>\n",
       "      <td>0.413037</td>\n",
       "      <td>0.764319</td>\n",
       "      <td>1.533492</td>\n",
       "    </tr>\n",
       "    <tr>\n",
       "      <td>3</td>\n",
       "      <td>0.476923</td>\n",
       "      <td>0.476923</td>\n",
       "      <td>2.096774</td>\n",
       "      <td>0.224081</td>\n",
       "      <td>0.701004</td>\n",
       "      <td>0.969378</td>\n",
       "    </tr>\n",
       "    <tr>\n",
       "      <td>4</td>\n",
       "      <td>0.602564</td>\n",
       "      <td>0.602564</td>\n",
       "      <td>1.659574</td>\n",
       "      <td>0.140377</td>\n",
       "      <td>0.742941</td>\n",
       "      <td>0.682591</td>\n",
       "    </tr>\n",
       "  </tbody>\n",
       "</table>\n",
       "</div>"
      ],
      "text/plain": [
       "      Depth      Area   velocity    V^2/2g         E          F\n",
       "0  0.100000  0.100000  10.000000  5.096840  5.196840  10.096376\n",
       "1  0.225641  0.225641   4.431818  1.001071  1.226712   2.978780\n",
       "2  0.351282  0.351282   2.846715  0.413037  0.764319   1.533492\n",
       "3  0.476923  0.476923   2.096774  0.224081  0.701004   0.969378\n",
       "4  0.602564  0.602564   1.659574  0.140377  0.742941   0.682591"
      ]
     },
     "execution_count": 98,
     "metadata": {},
     "output_type": "execute_result"
    }
   ],
   "source": [
    "#Given\n",
    "Q4 = 1 # m^3/s, constant discharge \n",
    "B4 = 1.0 # m, width of the channel\n",
    "g4 = 9.81 # m/s^2, gravity\n",
    "D4 = np.linspace(0.1, 5, 40) # m, 30 depths from 0.1 to 5 m\n",
    "\n",
    "# computation\n",
    "A4 = B4*D4 # m^2, area of flow \n",
    "v4 = Q4/A4 # m/s, velocity = Q/A\n",
    "v4_2g = (v4**2)/(2*g4) # m, kinetic head v^2/2g\n",
    "E4 = D4+v4_2g # m, Specific energy, E = D+ v2/2g\n",
    "F4 = v4/(g4*D4)**(1/2) # (), Froude Number\n",
    "\n",
    "import pandas as pd\n",
    "Data = pd.DataFrame({\"Depth\": D4, \"Area\": A4, \"velocity\":v4, \"V^2/2g\": v4_2g, \"E\": E4, \"F\": F4 }) \n",
    "Data.head(5) "
   ]
  },
  {
   "cell_type": "code",
   "execution_count": 147,
   "metadata": {},
   "outputs": [
    {
     "data": {
      "image/png": "[encoded data removed]",
      "text/plain": [
       "<Figure size 432x288 with 1 Axes>"
      ]
     },
     "metadata": {
      "needs_background": "light"
     },
     "output_type": "display_data"
    }
   ],
   "source": [
    "#solution Problem 4\n",
    "#Plot\n",
    "\n",
    "import matplotlib.pyplot as plt \n",
    "plt.plot(E4, D4, '--r', lw=2)\n",
    "plt.xlabel(r\"Specific Energy $E$ (m)\") \n",
    "plt.ylabel(r\"Depth $D$ (m)\")\n",
    "plt.axis([-0.1,5, -0.1,5])\n",
    "plt.grid() \n",
    "plt.savefig(\"fig11.pdf\", dpi=300)"
   ]
  },
  {
   "cell_type": "markdown",
   "metadata": {
    "slideshow": {
     "slide_type": "slide"
    }
   },
   "source": [
    "## Assignment problems - Next week ## \n",
    "\n"
   ]
  }
 ],
 "metadata": {
  "celltoolbar": "Slideshow",
  "hide_input": false,
  "kernel_info": {
   "name": "python3"
  },
  "kernelspec": {
   "display_name": "Python 3",
   "language": "python",
   "name": "python3"
  },
  "language_info": {
   "codemirror_mode": {
    "name": "ipython",
    "version": 3
   },
   "file_extension": ".py",
   "mimetype": "text/x-python",
   "name": "python",
   "nbconvert_exporter": "python",
   "pygments_lexer": "ipython3",
   "version": "3.7.3"
  },
  "latex_envs": {
   "LaTeX_envs_menu_present": true,
   "autoclose": false,
   "autocomplete": false,
   "bibliofile": "biblio.bib",
   "cite_by": "apalike",
   "current_citInitial": 1,
   "eqLabelWithNumbers": false,
   "eqNumInitial": 1,
   "hotkeys": {
    "equation": "Ctrl-E",
    "itemize": "Ctrl-I"
   },
   "labels_anchors": false,
   "latex_user_defs": false,
   "report_style_numbering": false,
   "user_envs_cfg": false
  },
  "nteract": {
   "version": "0.15.0"
  },
  "rise": {
   "backimage": "figs/HTWlogo.png",
   "footer": "<h4>Seminar 01, 15.10.2020, P. Yadav</h4>",
   "header": "<h2>Hydraulic Modelling</h2>"
  },
  "varInspector": {
   "cols": {
    "lenName": 16,
    "lenType": 16,
    "lenVar": 40
   },
   "kernels_config": {
    "python": {
     "delete_cmd_postfix": "",
     "delete_cmd_prefix": "del ",
     "library": "var_list.py",
     "varRefreshCmd": "print(var_dic_list())"
    },
    "r": {
     "delete_cmd_postfix": ") ",
     "delete_cmd_prefix": "rm(",
     "library": "var_list.r",
     "varRefreshCmd": "cat(var_dic_list()) "
    }
   },
   "types_to_exclude": [
    "module",
    "function",
    "builtin_function_or_method",
    "instance",
    "_Feature"
   ],
   "window_display": false
  }
 },
 "nbformat": 4,
 "nbformat_minor": 2
}
